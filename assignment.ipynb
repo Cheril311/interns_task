{
  "nbformat": 4,
  "nbformat_minor": 0,
  "metadata": {
    "colab": {
      "name": "Task1.ipynb",
      "provenance": []
    },
    "kernelspec": {
      "name": "python3",
      "display_name": "Python 3"
    },
    "language_info": {
      "name": "python"
    }
  },
  "cells": [
    {
      "cell_type": "code",
      "metadata": {
        "id": "c9huki3Llp6G"
      },
      "source": [
        "import os\n",
        "import joblib\n",
        "import numpy as np\n",
        "import pandas as pd\n",
        "from sklearn.tree import _tree\n",
        "from sklearn.metrics import roc_auc_score\n",
        "from sklearn.metrics import confusion_matrix\n",
        "from sklearn.preprocessing import LabelEncoder\n",
        "from sklearn.model_selection import train_test_split\n"
      ],
      "execution_count": null,
      "outputs": []
    },
    {
      "cell_type": "code",
      "metadata": {
        "id": "dhTYVYJFlp1j"
      },
      "source": [
        "# Load data\n",
        "dataset_name = 'sampled_data2.csv'\n",
        "df = pd.read_csv(dataset_name)\n",
        "print(df.shape)\n",
        "df.head()"
      ],
      "execution_count": null,
      "outputs": []
    },
    {
      "cell_type": "code",
      "metadata": {
        "id": "6nP32BT8lanF"
      },
      "source": [
        "entity_column = 'customer'\n",
        "target_column= 'fraud'\n",
        "datetime_columns = 'step'"
      ],
      "execution_count": null,
      "outputs": []
    },
    {
      "cell_type": "code",
      "metadata": {
        "id": "wLnTxJ61llL1"
      },
      "source": [
        "if entity_column == '':\n",
        "    df['entity_column']= df.index.tolist()\n",
        "    entity_column = 'entity_column' \n",
        "    \n",
        "if datetime_columns == '':\n",
        "    df['datetime_columns']= df.index.tolist()    \n",
        "    datetime_columns = 'datetime_columns'\n",
        "\n",
        "numerical_columns = df._get_numeric_data().columns.values.tolist()\n",
        "print(numerical_columns)\n",
        "    "
      ],
      "execution_count": null,
      "outputs": []
    },
    {
      "cell_type": "code",
      "metadata": {
        "id": "OwYPBvcCllOK"
      },
      "source": [
        "X = df.drop(columns=[entity_column,target_column,datetime_columns])\n",
        "y = df[target_column]\n",
        "\n",
        "# Label Encoding of Categorical Columns\n",
        "categorical_names = {}\n",
        "for feature in X.columns:\n",
        "    X[feature] =  X[feature].fillna('') \n",
        "    le =  LabelEncoder()\n",
        "    le.fit(X[feature])\n",
        "    X[feature] = le.transform(X[feature])\n",
        "    categorical_names[feature] = le.classes_\n",
        "    \n",
        "\n",
        "X_train, X_test, y_train, y_test = train_test_split(X, y, test_size=0.75, random_state=42,stratify=y)\n",
        "\n",
        "rf = RandomForestClassifier(criterion='entropy', class_weight='balanced', random_state=42)\n",
        "rf.fit(X_train, y_train)\n",
        "\n",
        "predictions = rf.predict_proba(X_test)\n",
        "predictions_class = rf.predict(X_test)\n",
        "\n",
        "\n",
        "if df[target_column].nunique()> 2:\n",
        "    rules_score = roc_auc_score(y_test, predictions[:,1], multi_class = 'ovo')\n",
        "else:\n",
        "    rules_score = roc_auc_score(y_test, predictions[:,1])\n",
        "\n",
        "print(rules_score)\n",
        "\n",
        "from sklearn.metrics import confusion_matrix\n",
        "cf_matrix = confusion_matrix(y_test, predictions_class)\n",
        "print(cf_matrix)\n",
        "\n",
        "import seaborn as sns\n",
        "sns.heatmap(cf_matrix, annot=True)"
      ],
      "execution_count": null,
      "outputs": []
    },
    {
      "cell_type": "code",
      "metadata": {
        "id": "7GQqShosllQV"
      },
      "source": [
        "'''\n",
        "ROC_AUC = 0.9960853703703704\n",
        "\n",
        "Confusion Matrix = \n",
        "[[13193   307]\n",
        " [  243  5157]]\n",
        "'''"
      ],
      "execution_count": null,
      "outputs": []
    },
    {
      "cell_type": "code",
      "metadata": {
        "id": "2zh1pMSNllSO"
      },
      "source": [
        ""
      ],
      "execution_count": null,
      "outputs": []
    },
    {
      "cell_type": "code",
      "metadata": {
        "id": "0aeq8zW8llUQ"
      },
      "source": [
        ""
      ],
      "execution_count": null,
      "outputs": []
    },
    {
      "cell_type": "code",
      "metadata": {
        "id": "UYXEuCu2llWX"
      },
      "source": [
        ""
      ],
      "execution_count": null,
      "outputs": []
    },
    {
      "cell_type": "code",
      "metadata": {
        "id": "ebglAFJ2llYg"
      },
      "source": [
        ""
      ],
      "execution_count": null,
      "outputs": []
    },
    {
      "cell_type": "code",
      "metadata": {
        "id": "GGOucKTjllal"
      },
      "source": [
        ""
      ],
      "execution_count": null,
      "outputs": []
    },
    {
      "cell_type": "code",
      "metadata": {
        "id": "E5PRTlNQllcV"
      },
      "source": [
        ""
      ],
      "execution_count": null,
      "outputs": []
    }
  ]
}